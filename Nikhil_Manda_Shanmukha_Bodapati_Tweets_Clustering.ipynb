{
  "nbformat": 4,
  "nbformat_minor": 0,
  "metadata": {
    "colab": {
      "provenance": []
    },
    "kernelspec": {
      "name": "python3",
      "display_name": "Python 3"
    },
    "language_info": {
      "name": "python"
    }
  },
  "cells": [
    {
      "cell_type": "code",
      "execution_count": 35,
      "metadata": {
        "id": "q_AWQ0-U1DYt"
      },
      "outputs": [],
      "source": [
        "# general imports\n",
        "import pandas as pd\n",
        "import re"
      ]
    },
    {
      "cell_type": "code",
      "source": [
        "# create a dataframe of tweets from LA Times Health and ignore the id and timestamp columns\n",
        "tweets_df = pd.read_csv('https://raw.githubusercontent.com/nikhilmanda9/Tweets-Similarity/main/latimeshealth.txt', delimiter='|', names=('id', 'timestamp', 'tweet'), usecols=['tweet'],header=None)\n",
        "\n",
        "# convert the dataframe to a nested list of tweets\n",
        "tweets = tweets_df.values.tolist()"
      ],
      "metadata": {
        "id": "KtVai-fnrEun"
      },
      "execution_count": 43,
      "outputs": []
    },
    {
      "cell_type": "code",
      "source": [
        "# regular expression to extract URL\n",
        "url_pattern = re.compile(r'http[s]?://(?:[a-zA-Z]|[0-9]|[$-_@.&+]|[!*\\\\(\\\\),]|(?:%[0-9a-fA-F][0-9a-fA-F]))+')\n",
        "\n",
        "# regular expression to extract '@' pattern\n",
        "mention_pattern = re.compile(r'@(\\w+)')\n",
        "\n",
        "# regular expression to extract '#' pattern\n",
        "hashtag_pattern = re.compile(r'#(\\w+)')\n",
        "\n",
        "\n",
        "for k in range(len(tweets)):\n",
        "  # remove the URL from the tweet\n",
        "  tweets[k][0] = url_pattern.sub('', tweets[k][0])\n",
        "\n",
        "  # remove the '@' character from the tweet\n",
        "  tweets[k][0] = mention_pattern.sub(r'\\1', tweets[k][0])\n",
        "\n",
        "  # remove the '#' character from the tweet\n",
        "  tweets[k][0] = hashtag_pattern.sub(r'\\1', tweets[k][0])\n",
        "\n",
        "  # remove trailing whitespace at the end of the tweet\n",
        "  tweets[k][0] = tweets[k][0].strip()\n",
        "\n",
        "  # ensure all words in the tweet are lowercase\n",
        "  tweets[k][0] = tweets[k][0].lower()"
      ],
      "metadata": {
        "id": "jPk4tExCq1zl"
      },
      "execution_count": 45,
      "outputs": []
    }
  ]
}